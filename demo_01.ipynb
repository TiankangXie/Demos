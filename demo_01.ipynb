{
 "cells": [
  {
   "cell_type": "code",
   "execution_count": 2,
   "metadata": {},
   "outputs": [],
   "source": [
    "from mne.time_frequency import psd_array_multitaper\n",
    "\n",
    "\n",
    "def sliding_window(data, size, stepsize=1, padded=False, axis=-1, copy=True):\n",
    "    \"\"\"\n",
    "    Calculate a sliding window over a signal\n",
    "    Parameters\n",
    "    ----------\n",
    "    data : numpy array\n",
    "        The array to be slided over.\n",
    "    size : int\n",
    "        The sliding window size\n",
    "    stepsize : int\n",
    "        The sliding window stepsize. Defaults to 1.\n",
    "    axis : int\n",
    "        The axis to slide over. Defaults to the last axis.\n",
    "    copy : bool\n",
    "        Return strided array as copy to avoid sideffects when manipulating the\n",
    "        output array.\n",
    "    Returns\n",
    "    -------\n",
    "    data : numpy array\n",
    "        A matrix where row in last dimension consists of one instance\n",
    "        of the sliding window.\n",
    "    Notes\n",
    "    -----\n",
    "    - Be wary of setting `copy` to `False` as undesired sideffects with the\n",
    "      output values may occurr.\n",
    "    Examples\n",
    "    --------\n",
    "    >>> a = numpy.array([1, 2, 3, 4, 5])\n",
    "    >>> sliding_window(a, size=3)\n",
    "    array([[1, 2, 3],\n",
    "           [2, 3, 4],\n",
    "           [3, 4, 5]])\n",
    "    >>> sliding_window(a, size=3, stepsize=2)\n",
    "    array([[1, 2, 3],\n",
    "           [3, 4, 5]])\n",
    "    See Also\n",
    "    --------\n",
    "    pieces : Calculate number of pieces available by sliding\n",
    "    \"\"\"\n",
    "    modul = (data.shape[0] - size) % stepsize\n",
    "\n",
    "    if padded == True:\n",
    "        if  modul!= 0:\n",
    "            data_append = np.array(list(repeat(0,modul)))\n",
    "            data = np.concatenate((data,data_append),axis = None)\n",
    "    #print(data)\n",
    "    if axis >= data.ndim:\n",
    "        raise ValueError(\n",
    "            \"Axis value out of range\"\n",
    "        )\n",
    "\n",
    "    if stepsize < 1:\n",
    "        raise ValueError(\n",
    "            \"Stepsize may not be zero or negative\"\n",
    "        )\n",
    "\n",
    "    if size > data.shape[axis]:\n",
    "        raise ValueError(\n",
    "            \"Sliding window size may not exceed size of selected axis\"\n",
    "        )\n",
    "\n",
    "    shape = list(data.shape)\n",
    "    shape[axis] = np.floor(data.shape[axis] / stepsize - size / stepsize + 1).astype(int)\n",
    "    shape.append(size)\n",
    "\n",
    "\n",
    "    strides = list(data.strides)\n",
    "    strides[axis] *= stepsize\n",
    "    strides.append(data.strides[axis])\n",
    "\n",
    "    #print(strides)\n",
    "    strided = np.lib.stride_tricks.as_strided(\n",
    "        data, shape=shape, strides=strides\n",
    "    )\n",
    "\n",
    "    if copy:\n",
    "        return strided.copy()\n",
    "    else:\n",
    "        return strided\n",
    "\n",
    "        \n",
    "def multitaper_psd(data_frame, sfreq, rms_interval = 1, step_size = 0.5, bandwidth = 4, freq_bands = [1,16], iEEGPCA = False):\n",
    "    \"\"\"\n",
    "    Calculate multitaper power spectrum density. You need sliding_window function too.\n",
    "    Parameters:\n",
    "        data_frame: time series data frame (n_channel * n_times)\n",
    "        sfreq: sampling frequency in Hz\n",
    "        rms_interval: The time window size in s\n",
    "        bandwidth: the bandwith for Multitaper. Bandwidth = s*f\n",
    "        step_size: the step size for the moving window in s. THis parameter determines the frequency for the result.\n",
    "        freq_bands: frequency band you are interested\n",
    "        iEEGPCA: whether to PCA the data_frame.\n",
    "    Output:\n",
    "        bpvals_low: data frame containing the power spectrum estimate in shape (n_channel, n_times, n_freq)\n",
    "        freqmulti: frequency distribution\n",
    "        \n",
    "    \"\"\"\n",
    "    raw_matrix_data = data_frame\n",
    "    \n",
    "    if iEEGPCA:\n",
    "        pca = PCA(n_components=0.95)\n",
    "        raw_matrix_data_sub = pca.fit_transform(np.transpose(raw_matrix_data))\n",
    "        raw_matrix_data = np.transpose(raw_matrix_data_sub)\n",
    "        del raw_matrix_data_sub,pca\n",
    "\n",
    "    windowed_100_data = sliding_window(raw_matrix_data,size= int(rms_interval * sfreq),stepsize= int(step_size * sfreq))\n",
    "    print(\"We obtained a windowed data of size\",windowed_100_data.shape)\n",
    "    \n",
    "    psdmulti,freqmulti = psd_array_multitaper(windowed_100_data[:,0,:], sfreq, bandwidth = bandwidth, fmin = freq_bands[0], fmax = freq_bands[1],\n",
    "                                                 normalization = \"full\", verbose = 0, n_jobs=4);\n",
    "    print(\"First run okay, proceding to more loops\")\n",
    "    bpvals_low = np.zeros(shape = (windowed_100_data.shape[0],windowed_100_data.shape[1],len(freqmulti)))\n",
    "    bpvals_low[:,0,:] = psdmulti\n",
    "    \n",
    "    for i in range(1,windowed_100_data.shape[1]):\n",
    "\n",
    "        psdmulti,freqmulti = psd_array_multitaper(windowed_100_data[:,i,:], sfreq, bandwidth = bandwidth, fmin = freq_bands[0], fmax = freq_bands[1],\n",
    "                                                 normalization = \"full\", verbose = 0, n_jobs=4);\n",
    "         \n",
    "        bpvals_low[:,i,:] = psdmulti\n",
    "\n",
    "    return(bpvals_low,freqmulti)"
   ]
  },
  {
   "cell_type": "code",
   "execution_count": 4,
   "metadata": {},
   "outputs": [],
   "source": [
    "import numpy as np\n",
    "signal_0 = np.random.rand(11,18888) # Generate random signal\n",
    "sfreq = 128 # sampling frequency\n"
   ]
  },
  {
   "cell_type": "code",
   "execution_count": 5,
   "metadata": {},
   "outputs": [
    {
     "name": "stdout",
     "output_type": "stream",
     "text": [
      "We obtained a windowed data of size (11, 294, 128)\n",
      "First run okay, proceding to more loops\n"
     ]
    }
   ],
   "source": [
    "a11,a12 = multitaper_psd(signal_0, 128, rms_interval = 1, step_size = 0.5, bandwidth = 4, freq_bands = [1,16], iEEGPCA = False)"
   ]
  },
  {
   "cell_type": "code",
   "execution_count": 6,
   "metadata": {},
   "outputs": [
    {
     "name": "stdout",
     "output_type": "stream",
     "text": [
      "(11, 294, 16)\n",
      "[ 1.  2.  3.  4.  5.  6.  7.  8.  9. 10. 11. 12. 13. 14. 15. 16.]\n"
     ]
    }
   ],
   "source": [
    "print(a11.shape)\n",
    "print(a12)"
   ]
  }
 ],
 "metadata": {
  "kernelspec": {
   "display_name": "Python 3",
   "language": "python",
   "name": "python3"
  },
  "language_info": {
   "codemirror_mode": {
    "name": "ipython",
    "version": 3
   },
   "file_extension": ".py",
   "mimetype": "text/x-python",
   "name": "python",
   "nbconvert_exporter": "python",
   "pygments_lexer": "ipython3",
   "version": "3.6.8"
  }
 },
 "nbformat": 4,
 "nbformat_minor": 2
}
